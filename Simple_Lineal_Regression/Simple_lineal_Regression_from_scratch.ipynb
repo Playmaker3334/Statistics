{
  "nbformat": 4,
  "nbformat_minor": 0,
  "metadata": {
    "colab": {
      "provenance": []
    },
    "kernelspec": {
      "name": "python3",
      "display_name": "Python 3"
    },
    "language_info": {
      "name": "python"
    }
  },
  "cells": [
    {
      "cell_type": "markdown",
      "source": [
        "# Simple lineal regression\n",
        "\n",
        "This is a personal project about a simple lineal regresion from scratch.\n"
      ],
      "metadata": {
        "id": "mSC_gOGZAsX-"
      }
    },
    {
      "cell_type": "markdown",
      "source": [
        "# Initial data\n",
        "\n",
        "First of all, we need the values ​​of the independent variable and the dependent variable, then we will store them in two lists for organizational reasons and work with our data."
      ],
      "metadata": {
        "id": "78mZJCb2BJZa"
      }
    },
    {
      "cell_type": "code",
      "source": [
        "x_values = [1,2,2,3,4,4,5,6]\n",
        "y_values = [2,3,4,4,4,6,5,7]"
      ],
      "metadata": {
        "id": "YfqmhawkBBeE"
      },
      "execution_count": 13,
      "outputs": []
    },
    {
      "cell_type": "markdown",
      "source": [
        "# Calculation of the other lists\n",
        "\n",
        "As we already know from the formula, to get the simple linear regression we require data like xy, x², and y².\n"
      ],
      "metadata": {
        "id": "xToKUXqoB9x4"
      }
    },
    {
      "cell_type": "code",
      "source": [
        "xy_values = [x*y for x, y in zip(x_values, y_values)]\n",
        "x2_value = [x**2 for x in x_values]\n",
        "y2_value = [y**2 for y in y_values]"
      ],
      "metadata": {
        "id": "xjJxNUQIDKvx"
      },
      "execution_count": 14,
      "outputs": []
    },
    {
      "cell_type": "markdown",
      "source": [],
      "metadata": {
        "id": "vKIzGx6eMo97"
      }
    },
    {
      "cell_type": "markdown",
      "source": [
        "# Mean from the values"
      ],
      "metadata": {
        "id": "hXxWjhLvRLO0"
      }
    },
    {
      "cell_type": "code",
      "source": [
        "x_mean = sum(x_values)/len(x_values)\n",
        "y_mean = sum(y_values)/len(y_values)"
      ],
      "metadata": {
        "id": "valVvw_JEdeG"
      },
      "execution_count": 15,
      "outputs": []
    },
    {
      "cell_type": "markdown",
      "source": [
        "# Coeficients\n",
        "*italicized text*"
      ],
      "metadata": {
        "id": "AIYWxHoVRS8t"
      }
    },
    {
      "cell_type": "code",
      "source": [
        "b1 = (sum(xy_values) - len(x_values)*x_mean*y_mean) / (sum(x2_value) - (len(x_values)*(x_mean**2)))\n",
        "b0 = y_mean - (b1*x_mean)"
      ],
      "metadata": {
        "id": "_z4iLrslSCUB"
      },
      "execution_count": 16,
      "outputs": []
    },
    {
      "cell_type": "markdown",
      "source": [
        "# Prediction\n"
      ],
      "metadata": {
        "id": "YkF7pxB5VSQY"
      }
    },
    {
      "cell_type": "code",
      "source": [
        "Y = [b0 + b1*(x) for x in range(8)]"
      ],
      "metadata": {
        "id": "TOEMKXO7VSwp"
      },
      "execution_count": 17,
      "outputs": []
    },
    {
      "cell_type": "markdown",
      "source": [
        "# Standard error of the estimate"
      ],
      "metadata": {
        "id": "cTIE11qyJAL3"
      }
    },
    {
      "cell_type": "code",
      "source": [
        "import math\n",
        "\n",
        "Sxy = math.sqrt((sum(y2_value) - (b0)*(sum(y_values)) - (b1)*(sum(xy_values))) / (len(x_values) - 2))\n",
        "print(Sxy)"
      ],
      "metadata": {
        "id": "M3dHMR0xJNta",
        "colab": {
          "base_uri": "https://localhost:8080/"
        },
        "outputId": "b73b7b25-78fd-4ef0-da0b-e8c19ebf36fd"
      },
      "execution_count": 18,
      "outputs": [
        {
          "output_type": "stream",
          "name": "stdout",
          "text": [
            "0.768892039595587\n"
          ]
        }
      ]
    },
    {
      "cell_type": "markdown",
      "source": [
        "# Graph"
      ],
      "metadata": {
        "id": "B1AfPr9ut8tc"
      }
    },
    {
      "cell_type": "code",
      "source": [
        "from matplotlib import pyplot as plt\n",
        "from matplotlib import style\n",
        "style.use('ggplot')"
      ],
      "metadata": {
        "id": "6Zzw8SZau6sq"
      },
      "execution_count": 19,
      "outputs": []
    },
    {
      "cell_type": "code",
      "source": [
        "# Plot the scatter points\n",
        "plt.scatter(x_values, y_values, color=\"blue\", label=\"Data Points\")\n",
        "\n",
        "# Plot the regression line\n",
        "plt.plot(range(8), Y, color=\"red\", label=\"Regression Line\")\n",
        "\n",
        "plt.scatter(x_values, y_values)\n",
        "plt.title('Simple lineal regression')\n",
        "plt.ylabel('Dependent variable')\n",
        "plt.xlabel('Independent variable')"
      ],
      "metadata": {
        "colab": {
          "base_uri": "https://localhost:8080/",
          "height": 494
        },
        "id": "HtYx4_Rwu-8i",
        "outputId": "5272a400-cdd6-4c6e-b21e-b4db591464aa"
      },
      "execution_count": 20,
      "outputs": [
        {
          "output_type": "execute_result",
          "data": {
            "text/plain": [
              "Text(0.5, 0, 'Independent variable')"
            ]
          },
          "metadata": {},
          "execution_count": 20
        },
        {
          "output_type": "display_data",
          "data": {
            "text/plain": [
              "<Figure size 640x480 with 1 Axes>"
            ],
            "image/png": "[encoded data removed]"
          },
          "metadata": {}
        }
      ]
    }
  ]
}